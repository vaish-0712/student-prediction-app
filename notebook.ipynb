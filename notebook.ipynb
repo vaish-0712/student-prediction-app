{
 "cells": [
  {
   "cell_type": "code",
   "execution_count": null,
   "id": "cc19d086",
   "metadata": {},
   "outputs": [
    {
     "name": "stdout",
     "output_type": "stream",
     "text": [
      "Best Random Forest Parameters: {'max_depth': 10, 'min_samples_split': 5, 'n_estimators': 100}\n",
      "RMSE: 7.56\n",
      "R^2: 0.78\n"
     ]
    },
    {
     "data": {
      "text/plain": [
       "['best_model.pkl']"
      ]
     },
     "execution_count": 3,
     "metadata": {},
     "output_type": "execute_result"
    }
   ],
   "source": [
    "import streamlit as st\n",
    "import numpy as np\n",
    "import pandas as pd\n",
    "import joblib\n",
    "import shap\n",
    "import matplotlib.pyplot as plt\n",
    "import warnings\n",
    "warnings.filterwarnings(\"ignore\")\n",
    "\n",
    "# Load model and data\n",
    "model = joblib.load(\"best_model.pkl\")\n",
    "df = pd.read_excel(\"student_exam_prediction_dataset_extended copy.xlsx\")\n",
    "\n",
    "# Encode categorical variable for model\n",
    "df['extracurricular_participation_encoded'] = df['extracurricular_participation'].map({'No':0, 'Yes':1})\n",
    "\n",
    "features = ['study_hours_per_day', 'attendance_percentage', 'mental_health_rating', 'sleep_hours', 'extracurricular_participation_encoded']\n",
    "\n",
    "# Page config\n",
    "st.set_page_config(page_title=\"Student Performance Predictor\", layout=\"wide\")\n",
    "st.title(\"Student Performance Prediction and Explainability\")\n",
    "\n",
    "with st.sidebar:\n",
    "    st.header(\"Select Student and Adjust Inputs\")\n",
    "    student_ids = df[\"student_id\"].unique()\n",
    "    selected_id = st.selectbox(\"Select Student\", student_ids)\n",
    "    student_row = df[df[\"student_id\"] == selected_id].iloc[0]\n",
    "\n",
    "    study_hours = st.slider(\"Study Hours per Day\", 0, 12, int(student_row[\"study_hours_per_day\"]))\n",
    "    attendance = st.slider(\"Attendance Percentage\", 0, 100, int(student_row[\"attendance_percentage\"]))\n",
    "    sleep_hours = st.slider(\"Sleep Hours per Night\", 0, 12, int(student_row[\"sleep_hours\"]))\n",
    "    mental_health = st.slider(\"Mental Health Rating (1-10)\", 1, 10, int(student_row[\"mental_health_rating\"]))\n",
    "    extracurricular = st.selectbox(\n",
    "        \"Extracurricular Participation\",\n",
    "        ['No', 'Yes'],\n",
    "        index=0 if student_row['extracurricular_participation'] == 'No' else 1\n",
    "    )\n",
    "    run_pred = st.button(\"Predict\")\n",
    "\n",
    "# Display Student Profile attractively\n",
    "st.markdown(\"### Student Profile\")\n",
    "col1, col2 = st.columns(2)\n",
    "with col1:\n",
    "    st.write(f\"**Age:** {student_row['age']}\")\n",
    "    st.write(f\"**Gender:** {student_row['gender']}\")\n",
    "    st.write(f\"**Program:** {student_row.get('program', 'N/A')}\")\n",
    "    st.write(f\"**Diet Quality:** {student_row['diet_quality']}\")\n",
    "    st.write(f\"**Exercise Frequency:** {student_row['exercise_frequency']}/week\")\n",
    "    st.write(f\"**Extracurricular:** {student_row['extracurricular_participation']}\")\n",
    "with col2:\n",
    "    st.write(f\"**Study Hours:** {student_row['study_hours_per_day']} hrs/day\")\n",
    "    st.write(f\"**Attendance:** {student_row['attendance_percentage']}%\")\n",
    "    st.write(f\"**Sleep:** {student_row['sleep_hours']} hrs/night\")\n",
    "    st.write(f\"**Mental Health:** {student_row['mental_health_rating']}/10\")\n",
    "    st.write(f\"**Internet Quality:** {student_row['internet_quality']}\")\n",
    "    st.write(f\"**Parental Education:** {student_row['parental_education_level']}\")\n",
    "\n",
    "score1, score2, score3, score4 = st.columns(4)\n",
    "score1.metric(\"Python Score\", f\"{student_row['python_marks']}\")\n",
    "score2.metric(\"Mathematics\", f\"{student_row['mathematics_marks']}\")\n",
    "score3.metric(\"DBMS\", f\"{student_row['dbms_marks']}\")\n",
    "score4.metric(\"Final Exam\", f\"{student_row['final_exam_marks']}\")\n",
    "\n",
    "st.divider()\n",
    "\n",
    "if run_pred:\n",
    "    extra_enc = 1 if extracurricular == 'Yes' else 0\n",
    "    input_data = np.array([[study_hours, attendance, mental_health, sleep_hours, extra_enc]])\n",
    "    pred = model.predict(input_data)[0]\n",
    "    pred = np.clip(pred, 0, 100)\n",
    "\n",
    "    st.subheader(\"Prediction Result\")\n",
    "    st.metric(\"Predicted Final Exam Score\", f\"{pred:.2f}%\")\n",
    "\n",
    "    # SHAP explainability\n",
    "    background = df[features].sample(100, random_state=42).values\n",
    "    explainer = shap.TreeExplainer(model, background)\n",
    "    shap_values = explainer.shap_values(input_data)\n",
    "    shap_vals = shap_values[0] if isinstance(shap_values, list) else shap_values\n",
    "\n",
    "    colors = ['green' if val > 0 else 'red' for val in shap_vals]\n",
    "    fig, ax = plt.subplots(figsize=(7, 4))\n",
    "    ax.barh(features, shap_vals, color=colors)\n",
    "    ax.set_xlabel('Impact on Score')\n",
    "    ax.set_title('Feature Impact on Predicted Score')\n",
    "    st.pyplot(fig)\n",
    "\n",
    "    expl_text = []\n",
    "    for feat, val in zip(features, shap_vals):\n",
    "        expl_text.append(\n",
    "            f\"- Higher **{feat.replace('_', ' ')}** {'increases' if val > 0 else 'decreases'} predicted score by {abs(val):.2f} points.\"\n",
    "        )\n",
    "    st.markdown(\"### Explanation Summary\\n\" + \"\\n\".join(expl_text))\n"
   ]
  }
 ],
 "metadata": {
  "kernelspec": {
   "display_name": "Python 3",
   "language": "python",
   "name": "python3"
  },
  "language_info": {
   "codemirror_mode": {
    "name": "ipython",
    "version": 3
   },
   "file_extension": ".py",
   "mimetype": "text/x-python",
   "name": "python",
   "nbconvert_exporter": "python",
   "pygments_lexer": "ipython3",
   "version": "3.13.5"
  }
 },
 "nbformat": 4,
 "nbformat_minor": 5
}
